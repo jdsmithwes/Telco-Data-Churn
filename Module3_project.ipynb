{
  "nbformat": 4,
  "nbformat_minor": 0,
  "metadata": {
    "colab": {
      "name": "Module3_project.ipynb",
      "provenance": [],
      "mount_file_id": "1KWJ68fgPrP9ld2LwKKL4Q9dIbfwA4s8C",
      "authorship_tag": "ABX9TyPINQWnDM0SnA/Ld9Yggzdd",
      "include_colab_link": true
    },
    "kernelspec": {
      "name": "python3",
      "display_name": "Python 3"
    }
  },
  "cells": [
    {
      "cell_type": "markdown",
      "metadata": {
        "id": "view-in-github",
        "colab_type": "text"
      },
      "source": [
        "<a href=\"https://colab.research.google.com/github/jdsmithwes/Telco-Data-Churn/blob/master/Module3_project.ipynb\" target=\"_parent\"><img src=\"https://colab.research.google.com/assets/colab-badge.svg\" alt=\"Open In Colab\"/></a>"
      ]
    },
    {
      "cell_type": "markdown",
      "metadata": {
        "id": "vSuCeBqMUoyi",
        "colab_type": "text"
      },
      "source": [
        "# Telco Churn Project\n",
        "Jamaal Smith\n",
        "\n"
      ]
    },
    {
      "cell_type": "code",
      "metadata": {
        "id": "HokWphkVUiYh",
        "colab_type": "code",
        "colab": {}
      },
      "source": [
        "import pandas as pd\n",
        "import numpy as np\n",
        "import matplotlib.pyplot as plt\n"
      ],
      "execution_count": 0,
      "outputs": []
    },
    {
      "cell_type": "markdown",
      "metadata": {
        "id": "ZdF9hKDnU_jT",
        "colab_type": "text"
      },
      "source": [
        "# Data Import and Cleaning"
      ]
    },
    {
      "cell_type": "code",
      "metadata": {
        "id": "-UQWiuUAVEIr",
        "colab_type": "code",
        "colab": {
          "base_uri": "https://localhost:8080/",
          "height": 867
        },
        "outputId": "af0f285e-93c9-42f5-b435-62cc12f6b437"
      },
      "source": [
        "#import the data\n",
        "df = pd.read_csv('churn_data.csv')\n",
        "\n",
        "#characteristics of the data\n",
        "from scrubbing import info\n",
        "info(df)"
      ],
      "execution_count": 73,
      "outputs": [
        {
          "output_type": "execute_result",
          "data": {
            "text/plain": [
              "(  state  account length  ...  customer service calls  churn\n",
              " 0    KS             128  ...                       1  False\n",
              " 1    OH             107  ...                       1  False\n",
              " 2    NJ             137  ...                       0  False\n",
              " 3    OH              84  ...                       2  False\n",
              " 4    OK              75  ...                       3  False\n",
              " \n",
              " [5 rows x 21 columns], state                      object\n",
              " account length              int64\n",
              " area code                   int64\n",
              " phone number               object\n",
              " international plan         object\n",
              " voice mail plan            object\n",
              " number vmail messages       int64\n",
              " total day minutes         float64\n",
              " total day calls             int64\n",
              " total day charge          float64\n",
              " total eve minutes         float64\n",
              " total eve calls             int64\n",
              " total eve charge          float64\n",
              " total night minutes       float64\n",
              " total night calls           int64\n",
              " total night charge        float64\n",
              " total intl minutes        float64\n",
              " total intl calls            int64\n",
              " total intl charge         float64\n",
              " customer service calls      int64\n",
              " churn                        bool\n",
              " dtype: object, state                     0\n",
              " account length            0\n",
              " area code                 0\n",
              " phone number              0\n",
              " international plan        0\n",
              " voice mail plan           0\n",
              " number vmail messages     0\n",
              " total day minutes         0\n",
              " total day calls           0\n",
              " total day charge          0\n",
              " total eve minutes         0\n",
              " total eve calls           0\n",
              " total eve charge          0\n",
              " total night minutes       0\n",
              " total night calls         0\n",
              " total night charge        0\n",
              " total intl minutes        0\n",
              " total intl calls          0\n",
              " total intl charge         0\n",
              " customer service calls    0\n",
              " churn                     0\n",
              " dtype: int64, (3333, 21))"
            ]
          },
          "metadata": {
            "tags": []
          },
          "execution_count": 73
        }
      ]
    },
    {
      "cell_type": "markdown",
      "metadata": {
        "id": "DAsjVecWkbkl",
        "colab_type": "text"
      },
      "source": [
        "Based on initial review of the data, we can conclude that the dataset is comprised of 21 columns and 3333 rows. Further, there are no null values in the data set.\n",
        "\n",
        "The next step in preparing the data for the model is to convert the object type in the phone number, international plan, and voicemail plan columns for the machine learning model.\n",
        "\n",
        "For now, I will only focus on the international and voicemail plan columns. I made this decision because the phone number a person is assigned plays no role in whether or not a person keeps their service."
      ]
    },
    {
      "cell_type": "code",
      "metadata": {
        "id": "yBb7CyzlmyvI",
        "colab_type": "code",
        "colab": {
          "base_uri": "https://localhost:8080/",
          "height": 343
        },
        "outputId": "6eb1ffd1-82b3-471a-9705-57f9eb359f2a"
      },
      "source": [
        "df.head()"
      ],
      "execution_count": 74,
      "outputs": [
        {
          "output_type": "execute_result",
          "data": {
            "text/html": [
              "<div>\n",
              "<style scoped>\n",
              "    .dataframe tbody tr th:only-of-type {\n",
              "        vertical-align: middle;\n",
              "    }\n",
              "\n",
              "    .dataframe tbody tr th {\n",
              "        vertical-align: top;\n",
              "    }\n",
              "\n",
              "    .dataframe thead th {\n",
              "        text-align: right;\n",
              "    }\n",
              "</style>\n",
              "<table border=\"1\" class=\"dataframe\">\n",
              "  <thead>\n",
              "    <tr style=\"text-align: right;\">\n",
              "      <th></th>\n",
              "      <th>state</th>\n",
              "      <th>account length</th>\n",
              "      <th>area code</th>\n",
              "      <th>phone number</th>\n",
              "      <th>international plan</th>\n",
              "      <th>voice mail plan</th>\n",
              "      <th>number vmail messages</th>\n",
              "      <th>total day minutes</th>\n",
              "      <th>total day calls</th>\n",
              "      <th>total day charge</th>\n",
              "      <th>total eve minutes</th>\n",
              "      <th>total eve calls</th>\n",
              "      <th>total eve charge</th>\n",
              "      <th>total night minutes</th>\n",
              "      <th>total night calls</th>\n",
              "      <th>total night charge</th>\n",
              "      <th>total intl minutes</th>\n",
              "      <th>total intl calls</th>\n",
              "      <th>total intl charge</th>\n",
              "      <th>customer service calls</th>\n",
              "      <th>churn</th>\n",
              "    </tr>\n",
              "  </thead>\n",
              "  <tbody>\n",
              "    <tr>\n",
              "      <th>0</th>\n",
              "      <td>KS</td>\n",
              "      <td>128</td>\n",
              "      <td>415</td>\n",
              "      <td>382-4657</td>\n",
              "      <td>no</td>\n",
              "      <td>yes</td>\n",
              "      <td>25</td>\n",
              "      <td>265.1</td>\n",
              "      <td>110</td>\n",
              "      <td>45.07</td>\n",
              "      <td>197.4</td>\n",
              "      <td>99</td>\n",
              "      <td>16.78</td>\n",
              "      <td>244.7</td>\n",
              "      <td>91</td>\n",
              "      <td>11.01</td>\n",
              "      <td>10.0</td>\n",
              "      <td>3</td>\n",
              "      <td>2.70</td>\n",
              "      <td>1</td>\n",
              "      <td>False</td>\n",
              "    </tr>\n",
              "    <tr>\n",
              "      <th>1</th>\n",
              "      <td>OH</td>\n",
              "      <td>107</td>\n",
              "      <td>415</td>\n",
              "      <td>371-7191</td>\n",
              "      <td>no</td>\n",
              "      <td>yes</td>\n",
              "      <td>26</td>\n",
              "      <td>161.6</td>\n",
              "      <td>123</td>\n",
              "      <td>27.47</td>\n",
              "      <td>195.5</td>\n",
              "      <td>103</td>\n",
              "      <td>16.62</td>\n",
              "      <td>254.4</td>\n",
              "      <td>103</td>\n",
              "      <td>11.45</td>\n",
              "      <td>13.7</td>\n",
              "      <td>3</td>\n",
              "      <td>3.70</td>\n",
              "      <td>1</td>\n",
              "      <td>False</td>\n",
              "    </tr>\n",
              "    <tr>\n",
              "      <th>2</th>\n",
              "      <td>NJ</td>\n",
              "      <td>137</td>\n",
              "      <td>415</td>\n",
              "      <td>358-1921</td>\n",
              "      <td>no</td>\n",
              "      <td>no</td>\n",
              "      <td>0</td>\n",
              "      <td>243.4</td>\n",
              "      <td>114</td>\n",
              "      <td>41.38</td>\n",
              "      <td>121.2</td>\n",
              "      <td>110</td>\n",
              "      <td>10.30</td>\n",
              "      <td>162.6</td>\n",
              "      <td>104</td>\n",
              "      <td>7.32</td>\n",
              "      <td>12.2</td>\n",
              "      <td>5</td>\n",
              "      <td>3.29</td>\n",
              "      <td>0</td>\n",
              "      <td>False</td>\n",
              "    </tr>\n",
              "    <tr>\n",
              "      <th>3</th>\n",
              "      <td>OH</td>\n",
              "      <td>84</td>\n",
              "      <td>408</td>\n",
              "      <td>375-9999</td>\n",
              "      <td>yes</td>\n",
              "      <td>no</td>\n",
              "      <td>0</td>\n",
              "      <td>299.4</td>\n",
              "      <td>71</td>\n",
              "      <td>50.90</td>\n",
              "      <td>61.9</td>\n",
              "      <td>88</td>\n",
              "      <td>5.26</td>\n",
              "      <td>196.9</td>\n",
              "      <td>89</td>\n",
              "      <td>8.86</td>\n",
              "      <td>6.6</td>\n",
              "      <td>7</td>\n",
              "      <td>1.78</td>\n",
              "      <td>2</td>\n",
              "      <td>False</td>\n",
              "    </tr>\n",
              "    <tr>\n",
              "      <th>4</th>\n",
              "      <td>OK</td>\n",
              "      <td>75</td>\n",
              "      <td>415</td>\n",
              "      <td>330-6626</td>\n",
              "      <td>yes</td>\n",
              "      <td>no</td>\n",
              "      <td>0</td>\n",
              "      <td>166.7</td>\n",
              "      <td>113</td>\n",
              "      <td>28.34</td>\n",
              "      <td>148.3</td>\n",
              "      <td>122</td>\n",
              "      <td>12.61</td>\n",
              "      <td>186.9</td>\n",
              "      <td>121</td>\n",
              "      <td>8.41</td>\n",
              "      <td>10.1</td>\n",
              "      <td>3</td>\n",
              "      <td>2.73</td>\n",
              "      <td>3</td>\n",
              "      <td>False</td>\n",
              "    </tr>\n",
              "  </tbody>\n",
              "</table>\n",
              "</div>"
            ],
            "text/plain": [
              "  state  account length  ...  customer service calls  churn\n",
              "0    KS             128  ...                       1  False\n",
              "1    OH             107  ...                       1  False\n",
              "2    NJ             137  ...                       0  False\n",
              "3    OH              84  ...                       2  False\n",
              "4    OK              75  ...                       3  False\n",
              "\n",
              "[5 rows x 21 columns]"
            ]
          },
          "metadata": {
            "tags": []
          },
          "execution_count": 74
        }
      ]
    },
    {
      "cell_type": "markdown",
      "metadata": {
        "id": "nxT6XBiet1BJ",
        "colab_type": "text"
      },
      "source": [
        "### Voicemail and International Plan treatment\n",
        "\n",
        "In these two columns, the number 1 signifies yes and 0 signifies no"
      ]
    },
    {
      "cell_type": "code",
      "metadata": {
        "id": "Bt9zgzAOrM1Z",
        "colab_type": "code",
        "colab": {
          "base_uri": "https://localhost:8080/",
          "height": 221
        },
        "outputId": "8f7e364c-17c0-49de-bc4f-71ea0b2551fe"
      },
      "source": [
        "key = {'yes':1, 'no':0}\n",
        "df['international plan']=df['international plan'].map(key)\n",
        "df['voice mail plan'] = df['voice mail plan'].map(key)\n",
        "\n",
        "df['international plan'].astype(str).astype(float)\n",
        "df['voice mail plan'].astype(str).astype(float)"
      ],
      "execution_count": 75,
      "outputs": [
        {
          "output_type": "execute_result",
          "data": {
            "text/plain": [
              "0       1.0\n",
              "1       1.0\n",
              "2       0.0\n",
              "3       0.0\n",
              "4       0.0\n",
              "       ... \n",
              "3328    1.0\n",
              "3329    0.0\n",
              "3330    0.0\n",
              "3331    0.0\n",
              "3332    1.0\n",
              "Name: voice mail plan, Length: 3333, dtype: float64"
            ]
          },
          "metadata": {
            "tags": []
          },
          "execution_count": 75
        }
      ]
    },
    {
      "cell_type": "markdown",
      "metadata": {
        "id": "2gPA_z6txFvq",
        "colab_type": "text"
      },
      "source": [
        "As noted before, since it is hard to argue that a given phone number has any relation to churn rate, this column will be eliminated now as part of the feature selection process."
      ]
    },
    {
      "cell_type": "code",
      "metadata": {
        "id": "HYQPsxuXxdhX",
        "colab_type": "code",
        "colab": {}
      },
      "source": [
        "df.drop('phone number', axis = 1)"
      ],
      "execution_count": 0,
      "outputs": []
    },
    {
      "cell_type": "markdown",
      "metadata": {
        "id": "DRV__LMv11Kj",
        "colab_type": "text"
      },
      "source": [
        "### Treatment of State Column"
      ]
    },
    {
      "cell_type": "code",
      "metadata": {
        "id": "E8Rv8mBY1BSz",
        "colab_type": "code",
        "colab": {
          "base_uri": "https://localhost:8080/",
          "height": 1000
        },
        "outputId": "dfee2ce9-2861-4368-d0e9-dc04e3f2c33b"
      },
      "source": [
        "fig, ax = plt.subplots(figsize = (30,20)) \n",
        "df['state'].hist()\n",
        "display(df['state'].value_counts())"
      ],
      "execution_count": 92,
      "outputs": [
        {
          "output_type": "display_data",
          "data": {
            "text/plain": [
              "WV    106\n",
              "MN     84\n",
              "NY     83\n",
              "AL     80\n",
              "OR     78\n",
              "WI     78\n",
              "OH     78\n",
              "WY     77\n",
              "VA     77\n",
              "CT     74\n",
              "ID     73\n",
              "VT     73\n",
              "MI     73\n",
              "TX     72\n",
              "UT     72\n",
              "IN     71\n",
              "MD     70\n",
              "KS     70\n",
              "MT     68\n",
              "NJ     68\n",
              "NC     68\n",
              "WA     66\n",
              "NV     66\n",
              "CO     66\n",
              "MA     65\n",
              "MS     65\n",
              "RI     65\n",
              "AZ     64\n",
              "MO     63\n",
              "FL     63\n",
              "NM     62\n",
              "ME     62\n",
              "ND     62\n",
              "OK     61\n",
              "DE     61\n",
              "NE     61\n",
              "SC     60\n",
              "SD     60\n",
              "KY     59\n",
              "IL     58\n",
              "NH     56\n",
              "AR     55\n",
              "DC     54\n",
              "GA     54\n",
              "HI     53\n",
              "TN     53\n",
              "AK     52\n",
              "LA     51\n",
              "PA     45\n",
              "IA     44\n",
              "CA     34\n",
              "Name: state, dtype: int64"
            ]
          },
          "metadata": {
            "tags": []
          }
        },
        {
          "output_type": "display_data",
          "data": {
            "image/png": "[encoded data removed]",
            "text/plain": [
              "<Figure size 2160x1440 with 1 Axes>"
            ]
          },
          "metadata": {
            "tags": [],
            "needs_background": "light"
          }
        }
      ]
    },
    {
      "cell_type": "markdown",
      "metadata": {
        "id": "8KTmDLl64GJN",
        "colab_type": "text"
      },
      "source": [
        "For now, the states column will be left in the dataset and later feature selection measures will provide a statistically significant method for determining whether or not this explanatory variable will be included in the final model."
      ]
    },
    {
      "cell_type": "markdown",
      "metadata": {
        "id": "vTsum0aJ4Z9z",
        "colab_type": "text"
      },
      "source": [
        "## Visual Representation of Data Normality"
      ]
    },
    {
      "cell_type": "code",
      "metadata": {
        "id": "9TyIGB8P4ZgV",
        "colab_type": "code",
        "colab": {}
      },
      "source": [
        ""
      ],
      "execution_count": 0,
      "outputs": []
    }
  ]
}